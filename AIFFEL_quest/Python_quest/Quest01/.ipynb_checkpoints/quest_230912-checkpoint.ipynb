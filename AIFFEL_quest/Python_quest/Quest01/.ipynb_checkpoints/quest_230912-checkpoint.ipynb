{
 "cells": [
  {
   "cell_type": "markdown",
   "metadata": {
    "colab_type": "text",
    "id": "view-in-github"
   },
   "source": [
    "<a href=\"https://colab.research.google.com/github/sunwoo0506/AIFFEL_Quest/blob/master/quest01/quest_230912.ipynb\" target=\"_parent\"><img src=\"https://colab.research.google.com/assets/colab-badge.svg\" alt=\"Open In Colab\"/></a>"
   ]
  },
  {
   "cell_type": "code",
   "execution_count": null,
   "metadata": {
    "id": "95yrHIiODAht"
   },
   "outputs": [],
   "source": []
  },
  {
   "cell_type": "code",
   "execution_count": 38,
   "metadata": {
    "colab": {
     "base_uri": "https://localhost:8080/"
    },
    "id": "21Ju9De-RcQO",
    "outputId": "904f4538-d9ca-47bc-8361-6940738f9d6e"
   },
   "outputs": [
    {
     "name": "stdout",
     "output_type": "stream",
     "text": [
      "입력값: 아들딸이 다 컸다 이 딸들아\n",
      "뒤집힌 단어는 아들딸이다컸다이딸들아 입니다.\n",
      "회문입니다\n"
     ]
    }
   ],
   "source": [
    "text = input(\"입력값: \")\n",
    "\n",
    "a = text.replace(\" \",\"\")   #입력문장 공백제거, 문장일 경우 띄어쓰기를 제거하기 위해 replace() 사용\n",
    "\n",
    "cotext = a[::-1]\n",
    "\n",
    "print(\"뒤집힌 단어는\", str(cotext), \"입니다.\")\n",
    "\n",
    "\n",
    "if a == cotext :\n",
    "  print(\"회문입니다\")\n",
    "else:\n",
    "  print(\"회문 아닙니다\")"
   ]
  }
 ],
 "metadata": {
  "colab": {
   "include_colab_link": true,
   "provenance": []
  },
  "kernelspec": {
   "display_name": "Python 3 (ipykernel)",
   "language": "python",
   "name": "python3"
  },
  "language_info": {
   "codemirror_mode": {
    "name": "ipython",
    "version": 3
   },
   "file_extension": ".py",
   "mimetype": "text/x-python",
   "name": "python",
   "nbconvert_exporter": "python",
   "pygments_lexer": "ipython3",
   "version": "3.9.7"
  }
 },
 "nbformat": 4,
 "nbformat_minor": 1
}
