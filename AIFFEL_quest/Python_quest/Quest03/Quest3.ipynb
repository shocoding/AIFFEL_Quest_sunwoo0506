{
  "nbformat": 4,
  "nbformat_minor": 0,
  "metadata": {
    "colab": {
      "provenance": []
    },
    "kernelspec": {
      "name": "python3",
      "display_name": "Python 3"
    },
    "language_info": {
      "name": "python"
    }
  },
  "cells": [
    {
      "cell_type": "markdown",
      "source": [
        "### Quest03\n",
        "\n",
        "n-gram만들기"
      ],
      "metadata": {
        "id": "8h7tzd5a0_g7"
      }
    },
    {
      "cell_type": "code",
      "source": [
        "file_path = '/content/drive/MyDrive/data/06TheAvengers.txt'\n",
        "with open(file_path, 'r', encoding='utf8') as f:\n",
        "  lines = f.readlines()"
      ],
      "metadata": {
        "id": "S7uvSoTVYIu8"
      },
      "execution_count": 1,
      "outputs": []
    },
    {
      "cell_type": "code",
      "source": [
        "# word단위 딕셔너리 생성\n",
        "\n",
        "import re\n",
        "p = re.compile('[a-z0-9]+') # 소문자, 숫자만 검색\n",
        "dic = {}\n",
        "for line in lines:\n",
        "  line = line.lower() # 소문자 변형, return str\n",
        "  # line = line.split()\n",
        "  line = p.findall(line) # 정규표현식에 맞는 text만 추출해서 list로 return\n",
        "  for i in line: # 반복문으로 딕셔너리에 key가 있는지 확인\n",
        "    if i in dic.keys(): # i가 있으면\n",
        "      dic[i] += 1 # i의 value에 1을 더함\n",
        "    else: # 없으면\n",
        "      dic[i] = 1 # i:1인 key-value 쌍을 만듬"
      ],
      "metadata": {
        "id": "-A1g5DK52YJM"
      },
      "execution_count": 2,
      "outputs": []
    },
    {
      "cell_type": "code",
      "source": [
        "# 2-gram단위 딕셔너리 생성\n",
        "\n",
        "import re\n",
        "p = re.compile('[a-z0-9]+')\n",
        "dic = {}\n",
        "for line in lines:\n",
        "  line = line.lower()\n",
        "  # line = line.split()\n",
        "  line = p.findall(line)\n",
        "  for i in range(len(line) -1): # 문장의 첫 단어부터 마지막 전 단어까지 반복\n",
        "    ngram = (line[i], line[i+1]) # ngram이라는 변수에 i번째 단어와 i+1번째 단어 입력\n",
        "    if ngram in dic.keys():\n",
        "      dic[ngram] += 1\n",
        "    else:\n",
        "      dic[ngram] = 1"
      ],
      "metadata": {
        "id": "qaq0_bk3JiUZ"
      },
      "execution_count": 3,
      "outputs": []
    },
    {
      "cell_type": "code",
      "source": [
        "print(list(dic.items())[:3])"
      ],
      "metadata": {
        "colab": {
          "base_uri": "https://localhost:8080/"
        },
        "id": "A4kFIGeyEz7y",
        "outputId": "aff2e3e6-7d5e-4b33-d128-42e5af3c90a6"
      },
      "execution_count": 4,
      "outputs": [
        {
          "output_type": "stream",
          "name": "stdout",
          "text": [
            "[(('the', 'tesseract'), 33), (('tesseract', 'has'), 1), (('has', 'awakened'), 1)]\n"
          ]
        }
      ]
    },
    {
      "cell_type": "code",
      "source": [
        "# 리스트 컴프리헨션\n",
        "def counter(dic):\n",
        "  max2gram = [(k, v) for k, v in dic.items() if max(dic.values()) == v] # dictionary의 value값 중 가장 큰 수를 찾아서 key, value를 함께 반환\n",
        "  return max2gram # return list"
      ],
      "metadata": {
        "id": "kY1LknH78slY"
      },
      "execution_count": 5,
      "outputs": []
    },
    {
      "cell_type": "code",
      "source": [
        "counter(dic)"
      ],
      "metadata": {
        "colab": {
          "base_uri": "https://localhost:8080/"
        },
        "id": "b_2B8yMsMx3Y",
        "outputId": "0598d715-9660-4a01-9eaf-92f01c1f1ee1"
      },
      "execution_count": 6,
      "outputs": [
        {
          "output_type": "execute_result",
          "data": {
            "text/plain": [
              "[(('it', 's'), 68)]"
            ]
          },
          "metadata": {},
          "execution_count": 6
        }
      ]
    },
    {
      "cell_type": "code",
      "source": [
        "# for문\n",
        "def counter(dic):\n",
        "  for k, v in dic.items():\n",
        "    if max(dic.values()) == v:\n",
        "      max2gram = k, v\n",
        "  return max2gram # return tuple"
      ],
      "metadata": {
        "id": "be6e8XCUOO7u"
      },
      "execution_count": 7,
      "outputs": []
    },
    {
      "cell_type": "code",
      "source": [
        "counter(dic)"
      ],
      "metadata": {
        "colab": {
          "base_uri": "https://localhost:8080/"
        },
        "id": "HXo11FLXXPiA",
        "outputId": "fc2d2fdb-741d-4857-996d-989e47c04c41"
      },
      "execution_count": 8,
      "outputs": [
        {
          "output_type": "execute_result",
          "data": {
            "text/plain": [
              "(('it', 's'), 68)"
            ]
          },
          "metadata": {},
          "execution_count": 8
        }
      ]
    }
  ]
}